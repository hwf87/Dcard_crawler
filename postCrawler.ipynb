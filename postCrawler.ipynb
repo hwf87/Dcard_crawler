{
 "cells": [
  {
   "cell_type": "code",
   "execution_count": 1,
   "source": [
    "import time\n",
    "import pandas as pd\n",
    "from utils import mysqlDatabase, dcardApi"
   ],
   "outputs": [],
   "metadata": {}
  },
  {
   "cell_type": "code",
   "execution_count": 2,
   "source": [
    "class postCrawler:\n",
    "    def __init__(self, database_username, database_password, database_ip, database_name, base_url, popular, max_limit):\n",
    "        self.database_username = database_username\n",
    "        self.database_password = database_password\n",
    "        self.database_ip = database_ip\n",
    "        self.database_name = database_name\n",
    "        self.base_url = base_url\n",
    "        self.popular = popular\n",
    "        self.max_limit = max_limit\n",
    "    def get_forums_list(self, MysqlDatabase, sql):\n",
    "        df = MysqlDatabase.select_table(sql)\n",
    "        forums_list = df['alias'].tolist()\n",
    "        return forums_list\n",
    "    def get_new_post(self, DcardApi, forums_alias):\n",
    "        df = DcardApi.get_Dcard_posts(forums_alias)\n",
    "        return df\n",
    "    def get_old_post(self, DcardApi, forums_alias, before_postid):\n",
    "        df = DcardApi.get_Dcard_posts(forums_alias, before_postid)\n",
    "        return df\n",
    "    def get_forums_before_postid(self, MysqlDatabase, forums_alias):\n",
    "        sql = '''\n",
    "        SELECT df.name, df.alias, dp.id, dp.title, dp.createdAT\n",
    "        FROM Bigdata.dcard_posts dp\n",
    "        left join Bigdata.dcard_forums df on dp.forumid = df.id\n",
    "        where 1=1\n",
    "        and df.alias = ':forums_alias'\n",
    "        order by createdAT desc\n",
    "        '''\n",
    "        sql = sql.replace(':forums_alias', forums_alias)\n",
    "        df = MysqlDatabase.select_table(sql)\n",
    "        try:\n",
    "            before_postid = df.head(1)['id'].tolist()[0]\n",
    "        except:\n",
    "            before_postid = None\n",
    "        return before_postid\n",
    "    def main(self):\n",
    "        '''\n",
    "        實作\n",
    "        '''\n",
    "        MysqlDatabase = mysqlDatabase(self.database_username, self.database_password, self.database_ip, self.database_name)\n",
    "        DcardApi = dcardApi(self.base_url, self.popular, self.max_limit)\n",
    "        ## 看板列表\n",
    "        my_interest_forums = ['時事', '網路購物', '股票', '美妝', '工作', '考試', '穿搭', '3C', 'Apple', '感情', \n",
    "                              '美食', '理財', '居家生活', '臺灣大學', 'YouTuber']\n",
    "        sql = '''\n",
    "        select *\n",
    "        from Bigdata.dcard_forums\n",
    "        where 1=1\n",
    "        and name in :my_interest_forums\n",
    "        '''\n",
    "        sql = sql.replace(':my_interest_forums', str(tuple(my_interest_forums)))\n",
    "        forums_list = self.get_forums_list(MysqlDatabase, sql)\n",
    "\n",
    "        ## 最新文章\n",
    "        df_post = pd.DataFrame(columns=['id', 'title', 'excerpt', 'forumId', 'commentCount', 'likeCount', 'topics', 'author', 'gender', 'createdAt'])\n",
    "        time_start = time.time() \n",
    "        for alias in forums_list:\n",
    "            time.sleep(1)\n",
    "            time_cost = time.time() - time_start\n",
    "            if time_cost >= 3600:\n",
    "                break\n",
    "            try:\n",
    "                print(alias)\n",
    "                df_post = pd.concat([df_post, self.get_new_post(DcardApi, alias)])\n",
    "                before_postid = PostCrawler.get_forums_before_postid(MysqlDatabase, alias)\n",
    "                df_post = pd.concat([df_post, self.get_old_post(DcardApi, alias, before_postid)])\n",
    "            except:\n",
    "                print('connection abort, need some break')\n",
    "                time.sleep(5)\n",
    "                continue\n",
    "        print('total time cost(sec): ', time_cost)\n",
    "        df_post = df_post.fillna('')[['id', 'title', 'excerpt', 'forumId', 'commentCount', 'likeCount', 'topics', 'author', 'gender', 'createdAt']]\n",
    "        MysqlDatabase.upsert_table(df_post, table_name='dcard_posts')\n",
    "        return df_post"
   ],
   "outputs": [],
   "metadata": {}
  },
  {
   "cell_type": "code",
   "execution_count": 3,
   "source": [
    "if __name__ == '__main__':\n",
    "    database_username = 'jackyfu'\n",
    "    database_password = 'data8756'\n",
    "    database_ip       = 'sg2nlmysql29plsk.secureserver.net'\n",
    "    database_name     = 'Bigdata'\n",
    "    base_url = 'https://www.dcard.tw/service/api/v2'\n",
    "    popular = 'false'\n",
    "    max_limit = '100'\n",
    "    ###\n",
    "    PostCrawler = postCrawler(database_username, database_password, database_ip, database_name, base_url, popular, max_limit)\n",
    "    df_post = PostCrawler.main()"
   ],
   "outputs": [
    {
     "output_type": "stream",
     "name": "stdout",
     "text": [
      "Successfully select from Bigdata table\n",
      "ntu\n",
      "Successfully select from Bigdata table\n",
      "total time cost(sec):  1.0050239562988281\n"
     ]
    }
   ],
   "metadata": {}
  },
  {
   "cell_type": "code",
   "execution_count": null,
   "source": [],
   "outputs": [],
   "metadata": {}
  }
 ],
 "metadata": {
  "orig_nbformat": 4,
  "language_info": {
   "name": "python",
   "version": "3.9.6",
   "mimetype": "text/x-python",
   "codemirror_mode": {
    "name": "ipython",
    "version": 3
   },
   "pygments_lexer": "ipython3",
   "nbconvert_exporter": "python",
   "file_extension": ".py"
  },
  "kernelspec": {
   "name": "python3",
   "display_name": "Python 3.9.6 64-bit ('base': conda)"
  },
  "interpreter": {
   "hash": "8babb7a12c6e42765f388889c0aa06c7d7375525eab3586cb053fcdf63518ad0"
  }
 },
 "nbformat": 4,
 "nbformat_minor": 2
}