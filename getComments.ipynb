{
 "cells": [
  {
   "cell_type": "markdown",
   "source": [
    "## 爬留言"
   ],
   "metadata": {}
  },
  {
   "cell_type": "code",
   "execution_count": 1,
   "source": [
    "import time\n",
    "import numpy as np\n",
    "import pandas as pd\n",
    "from utils import mysqlDatabase, dcardApi"
   ],
   "outputs": [],
   "metadata": {}
  },
  {
   "cell_type": "code",
   "execution_count": 2,
   "source": [
    "class getComments:\n",
    "    def __init__(self, database_username, database_password, database_ip, database_name, base_url, popular, max_limit):\n",
    "        self.database_username = database_username\n",
    "        self.database_password = database_password\n",
    "        self.database_ip = database_ip\n",
    "        self.database_name = database_name\n",
    "        self.base_url = base_url\n",
    "        self.popular = popular\n",
    "        self.max_limit = max_limit\n",
    "    def get_postid_list(self, MysqlDatabase, sql):\n",
    "        df = MysqlDatabase.select_table(sql)\n",
    "        postid_list = df['postid'].tolist()\n",
    "        return postid_list\n",
    "    def get_comment(self, DcardApi, postid):\n",
    "        df = DcardApi.get_Dcard_posts_comments(postid)\n",
    "        return df\n",
    "    def main(self):\n",
    "        '''\n",
    "        實作\n",
    "        '''\n",
    "        MysqlDatabase = mysqlDatabase(self.database_username, self.database_password, self.database_ip, self.database_name)\n",
    "        DcardApi = dcardApi(self.base_url, self.popular, self.max_limit)\n",
    "        ## 文章列表\n",
    "        sql = '''SELECT distinct postid, title FROM Bigdata.dcard_posts where commentCount >= 30'''\n",
    "        postid_list = self.get_postid_list(MysqlDatabase, sql)\n",
    "        ## 打api拿留言\n",
    "        for postid in postid_list:\n",
    "            # print(postid)\n",
    "            df_comment = self.get_comment(DcardApi, postid)\n",
    "            break\n",
    "        df_comment = df_comment[['id', 'anonymous', 'postId', 'createdAt', 'floor', 'content', 'likeCount', 'withNickname', 'gender', 'school', 'department']]\n",
    "        MysqlDatabase.insert_table(df_comment, table_name='dcard_comments')\n",
    "        return df_comment"
   ],
   "outputs": [],
   "metadata": {}
  },
  {
   "cell_type": "code",
   "execution_count": 8,
   "source": [
    "if __name__ == '__main__':\n",
    "    database_username = 'jackyfu'\n",
    "    database_password = 'data8756'\n",
    "    database_ip       = 'sg2nlmysql29plsk.secureserver.net'\n",
    "    database_name     = 'Bigdata'\n",
    "    base_url = 'https://www.dcard.tw/service/api/v2'\n",
    "    popular = 'false'\n",
    "    max_limit = '100'\n",
    "    ###\n",
    "    GetComments = getComments(database_username, database_password, database_ip, database_name, base_url, popular, max_limit)\n",
    "    df_comment = GetComments.main()"
   ],
   "outputs": [
    {
     "output_type": "stream",
     "name": "stdout",
     "text": [
      "Successfully select from Bigdata table\n",
      "Successfully insert into Bigdata table: dcard_comments\n"
     ]
    }
   ],
   "metadata": {}
  },
  {
   "cell_type": "code",
   "execution_count": 9,
   "source": [
    "df_comment.head()"
   ],
   "outputs": [
    {
     "output_type": "execute_result",
     "data": {
      "text/plain": [
       "                                     id  anonymous     postId  \\\n",
       "0  afec17bd-b835-46f8-a5db-437b021a1c27       True  236808962   \n",
       "1  cab1968a-c5db-40b3-be64-eff72e9d1e09      False  236808962   \n",
       "2  2f20fc10-ca1b-4dca-9bef-dee0ad86054d      False  236808962   \n",
       "3  e2bec33b-c995-4941-a13b-2b8f68264de6      False  236808962   \n",
       "4  93cbb45b-0be8-4809-b953-c987b376261b      False  236808962   \n",
       "\n",
       "                  createdAt  floor                  content  likeCount  \\\n",
       "0  2021-08-25T17:28:25.019Z      1  欸不是要賣奶不要賣一半‎꜀(  ꜆˙꒳​˙)꜆         21   \n",
       "1  2021-08-25T17:28:48.662Z      2            騷擾你也是我的自由 ...         10   \n",
       "2  2021-08-25T17:28:55.721Z      3  欸不是要賣奶不要賣一半‎꜀(  ꜆˙꒳​˙)꜆         14   \n",
       "3  2021-08-25T17:29:02.788Z      4  欸不是要賣奶不要賣一半‎꜀(  ꜆˙꒳​˙)꜆          8   \n",
       "4  2021-08-25T17:30:15.348Z      5  欸不是要賣奶不要賣一半‎꜀(  ꜆˙꒳​˙)꜆          9   \n",
       "\n",
       "   withNickname gender      school department  \n",
       "0         False      M        長庚大學        NaN  \n",
       "1          True      M        亞洲董神      larry  \n",
       "2          True      M  拿鐵大學 不想上班所     montag  \n",
       "3          True      M        亞洲董神      larry  \n",
       "4          True      M      Eligos  devil_egg  "
      ],
      "text/html": [
       "<div>\n",
       "<style scoped>\n",
       "    .dataframe tbody tr th:only-of-type {\n",
       "        vertical-align: middle;\n",
       "    }\n",
       "\n",
       "    .dataframe tbody tr th {\n",
       "        vertical-align: top;\n",
       "    }\n",
       "\n",
       "    .dataframe thead th {\n",
       "        text-align: right;\n",
       "    }\n",
       "</style>\n",
       "<table border=\"1\" class=\"dataframe\">\n",
       "  <thead>\n",
       "    <tr style=\"text-align: right;\">\n",
       "      <th></th>\n",
       "      <th>id</th>\n",
       "      <th>anonymous</th>\n",
       "      <th>postId</th>\n",
       "      <th>createdAt</th>\n",
       "      <th>floor</th>\n",
       "      <th>content</th>\n",
       "      <th>likeCount</th>\n",
       "      <th>withNickname</th>\n",
       "      <th>gender</th>\n",
       "      <th>school</th>\n",
       "      <th>department</th>\n",
       "    </tr>\n",
       "  </thead>\n",
       "  <tbody>\n",
       "    <tr>\n",
       "      <th>0</th>\n",
       "      <td>afec17bd-b835-46f8-a5db-437b021a1c27</td>\n",
       "      <td>True</td>\n",
       "      <td>236808962</td>\n",
       "      <td>2021-08-25T17:28:25.019Z</td>\n",
       "      <td>1</td>\n",
       "      <td>欸不是要賣奶不要賣一半‎꜀(  ꜆˙꒳​˙)꜆</td>\n",
       "      <td>21</td>\n",
       "      <td>False</td>\n",
       "      <td>M</td>\n",
       "      <td>長庚大學</td>\n",
       "      <td>NaN</td>\n",
       "    </tr>\n",
       "    <tr>\n",
       "      <th>1</th>\n",
       "      <td>cab1968a-c5db-40b3-be64-eff72e9d1e09</td>\n",
       "      <td>False</td>\n",
       "      <td>236808962</td>\n",
       "      <td>2021-08-25T17:28:48.662Z</td>\n",
       "      <td>2</td>\n",
       "      <td>騷擾你也是我的自由 ...</td>\n",
       "      <td>10</td>\n",
       "      <td>True</td>\n",
       "      <td>M</td>\n",
       "      <td>亞洲董神</td>\n",
       "      <td>larry</td>\n",
       "    </tr>\n",
       "    <tr>\n",
       "      <th>2</th>\n",
       "      <td>2f20fc10-ca1b-4dca-9bef-dee0ad86054d</td>\n",
       "      <td>False</td>\n",
       "      <td>236808962</td>\n",
       "      <td>2021-08-25T17:28:55.721Z</td>\n",
       "      <td>3</td>\n",
       "      <td>欸不是要賣奶不要賣一半‎꜀(  ꜆˙꒳​˙)꜆</td>\n",
       "      <td>14</td>\n",
       "      <td>True</td>\n",
       "      <td>M</td>\n",
       "      <td>拿鐵大學 不想上班所</td>\n",
       "      <td>montag</td>\n",
       "    </tr>\n",
       "    <tr>\n",
       "      <th>3</th>\n",
       "      <td>e2bec33b-c995-4941-a13b-2b8f68264de6</td>\n",
       "      <td>False</td>\n",
       "      <td>236808962</td>\n",
       "      <td>2021-08-25T17:29:02.788Z</td>\n",
       "      <td>4</td>\n",
       "      <td>欸不是要賣奶不要賣一半‎꜀(  ꜆˙꒳​˙)꜆</td>\n",
       "      <td>8</td>\n",
       "      <td>True</td>\n",
       "      <td>M</td>\n",
       "      <td>亞洲董神</td>\n",
       "      <td>larry</td>\n",
       "    </tr>\n",
       "    <tr>\n",
       "      <th>4</th>\n",
       "      <td>93cbb45b-0be8-4809-b953-c987b376261b</td>\n",
       "      <td>False</td>\n",
       "      <td>236808962</td>\n",
       "      <td>2021-08-25T17:30:15.348Z</td>\n",
       "      <td>5</td>\n",
       "      <td>欸不是要賣奶不要賣一半‎꜀(  ꜆˙꒳​˙)꜆</td>\n",
       "      <td>9</td>\n",
       "      <td>True</td>\n",
       "      <td>M</td>\n",
       "      <td>Eligos</td>\n",
       "      <td>devil_egg</td>\n",
       "    </tr>\n",
       "  </tbody>\n",
       "</table>\n",
       "</div>"
      ]
     },
     "metadata": {},
     "execution_count": 9
    }
   ],
   "metadata": {}
  },
  {
   "cell_type": "code",
   "execution_count": null,
   "source": [],
   "outputs": [],
   "metadata": {}
  }
 ],
 "metadata": {
  "orig_nbformat": 4,
  "language_info": {
   "name": "python",
   "version": "3.9.6",
   "mimetype": "text/x-python",
   "codemirror_mode": {
    "name": "ipython",
    "version": 3
   },
   "pygments_lexer": "ipython3",
   "nbconvert_exporter": "python",
   "file_extension": ".py"
  },
  "kernelspec": {
   "name": "python3",
   "display_name": "Python 3.9.6 64-bit ('base': conda)"
  },
  "interpreter": {
   "hash": "8babb7a12c6e42765f388889c0aa06c7d7375525eab3586cb053fcdf63518ad0"
  }
 },
 "nbformat": 4,
 "nbformat_minor": 2
}