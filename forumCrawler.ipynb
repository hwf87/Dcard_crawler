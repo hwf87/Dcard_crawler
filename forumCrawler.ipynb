{
 "cells": [
  {
   "cell_type": "code",
   "execution_count": 1,
   "source": [
    "import yaml\n",
    "import time\n",
    "import pandas as pd\n",
    "from utils import mysqlDatabase, dcardApi"
   ],
   "outputs": [],
   "metadata": {}
  },
  {
   "cell_type": "code",
   "execution_count": null,
   "source": [
    "def get_all_forums_and_upload():\n",
    "    url_path = 'https://www.dcard.tw/service/api/v2/forums'\n",
    "    df = get_df_from_dcard_api(url_path)\n",
    "    df = df[['id', 'alias', 'name', 'subscriptionCount', 'postCount', 'isSchool', 'createdAt']]\n",
    "    df.postCount = df.postCount.apply(lambda x : x['last30Days'])\n",
    "    df.createdAt = df.createdAt.apply(lambda x : x[:10])\n",
    "    # uploadDB(df, 'dcard_forums')\n",
    "    return df"
   ],
   "outputs": [],
   "metadata": {}
  }
 ],
 "metadata": {
  "orig_nbformat": 4,
  "language_info": {
   "name": "python",
   "version": "3.9.6",
   "mimetype": "text/x-python",
   "codemirror_mode": {
    "name": "ipython",
    "version": 3
   },
   "pygments_lexer": "ipython3",
   "nbconvert_exporter": "python",
   "file_extension": ".py"
  },
  "kernelspec": {
   "name": "python3",
   "display_name": "Python 3.9.6 64-bit ('base': conda)"
  },
  "interpreter": {
   "hash": "8babb7a12c6e42765f388889c0aa06c7d7375525eab3586cb053fcdf63518ad0"
  }
 },
 "nbformat": 4,
 "nbformat_minor": 2
}