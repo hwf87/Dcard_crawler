{
 "cells": [
  {
   "cell_type": "code",
   "execution_count": 1,
   "source": [
    "import yaml\n",
    "import time\n",
    "import pandas as pd\n",
    "from utils import mysqlDatabase, dcardApi"
   ],
   "outputs": [],
   "metadata": {}
  },
  {
   "cell_type": "code",
   "execution_count": 2,
   "source": [
    "class forumCrawler:\n",
    "    def __init__(self, database_username, database_password, database_ip, database_name, base_url, popular, max_limit):\n",
    "        self.database_username = database_username\n",
    "        self.database_password = database_password\n",
    "        self.database_ip = database_ip\n",
    "        self.database_name = database_name\n",
    "        self.base_url = base_url\n",
    "        self.popular = popular\n",
    "        self.max_limit = max_limit\n",
    "    def get_forums(self, DcardApi):\n",
    "        df = DcardApi.get_Dcard_forums()\n",
    "        df = df[['id', 'alias', 'name', 'subscriptionCount', 'postCount', 'isSchool', 'createdAt']]\n",
    "        df.postCount = df.postCount.apply(lambda x : x['last30Days'])\n",
    "        df.createdAt = df.createdAt.apply(lambda x : x[:10])\n",
    "        return df\n",
    "    def main(self):\n",
    "        '''\n",
    "        實作\n",
    "        '''\n",
    "        MysqlDatabase = mysqlDatabase(self.database_username, self.database_password, self.database_ip, self.database_name)\n",
    "        DcardApi = dcardApi(self.base_url, self.popular, self.max_limit)\n",
    "        df_forums = self.get_forums(DcardApi)\n",
    "        MysqlDatabase.upsert_table(df_forums, table_name='dcard_forums')\n",
    "        return df_forums"
   ],
   "outputs": [],
   "metadata": {}
  },
  {
   "cell_type": "code",
   "execution_count": 3,
   "source": [
    "if __name__ == '__main__':\n",
    "    with open('config.yml', 'r') as stream:\n",
    "        myconfig = yaml.load(stream, Loader=yaml.CLoader)\n",
    "    database_username = myconfig['mysql_database']['database_username']\n",
    "    database_password = myconfig['mysql_database']['database_password']\n",
    "    database_ip       = myconfig['mysql_database']['database_ip']\n",
    "    database_name     = myconfig['mysql_database']['database_name']\n",
    "    base_url = 'https://www.dcard.tw/service/api/v2'\n",
    "    popular = 'false'\n",
    "    max_limit = '100'\n",
    "    ###\n",
    "    ForumCrawler = forumCrawler(database_username, database_password, database_ip, database_name, base_url, popular, max_limit)\n",
    "    df_forums = ForumCrawler.main()"
   ],
   "outputs": [
    {
     "output_type": "stream",
     "name": "stdout",
     "text": [
      "Successfully upsert into Bigdata table: dcard_forums\n"
     ]
    }
   ],
   "metadata": {}
  }
 ],
 "metadata": {
  "orig_nbformat": 4,
  "language_info": {
   "name": "python",
   "version": "3.9.6",
   "mimetype": "text/x-python",
   "codemirror_mode": {
    "name": "ipython",
    "version": 3
   },
   "pygments_lexer": "ipython3",
   "nbconvert_exporter": "python",
   "file_extension": ".py"
  },
  "kernelspec": {
   "name": "python3",
   "display_name": "Python 3.9.6 64-bit ('base': conda)"
  },
  "interpreter": {
   "hash": "8babb7a12c6e42765f388889c0aa06c7d7375525eab3586cb053fcdf63518ad0"
  }
 },
 "nbformat": 4,
 "nbformat_minor": 2
}