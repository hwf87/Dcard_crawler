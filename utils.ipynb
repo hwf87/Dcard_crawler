{
 "cells": [
  {
   "cell_type": "code",
   "execution_count": 1,
   "source": [
    "import json\n",
    "import pymysql\n",
    "import requests\n",
    "import sqlalchemy\n",
    "import pandas as pd\n",
    "from sqlalchemy import create_engine"
   ],
   "outputs": [],
   "metadata": {}
  },
  {
   "cell_type": "code",
   "execution_count": 3,
   "source": [
    "class mysqlDatabase:\n",
    "    def __init__(self, database_username, database_password, database_ip, database_name):\n",
    "        self.database_username = database_username\n",
    "        self.database_password = database_password\n",
    "        self.database_ip       = database_ip\n",
    "        self.database_name     = database_name\n",
    "    def get_engine(self):\n",
    "        sql_engine = create_engine('mysql+mysqlconnector://{0}:{1}@{2}/{3}'.format(self.database_username, self.database_password, self.database_ip, self.database_name))\n",
    "        return sql_engine\n",
    "    def select_table(self, df, table_name):\n",
    "        connection = self.get_engine()\n",
    "        df = pd.read_sql(sql, con = connection)\n",
    "        print('Successfully select from Bigdata table: ' + table_name)\n",
    "        return df\n",
    "    def insert_table(self, df, table_name):\n",
    "        connection = self.get_engine()\n",
    "        df.astype(str).to_sql(name=table_name, con=connection, if_exists = 'append', index=False)\n",
    "        print('Successfully insert into Bigdata table: ' + table_name)\n",
    "        return df"
   ],
   "outputs": [],
   "metadata": {}
  },
  {
   "cell_type": "code",
   "execution_count": 4,
   "source": [
    "class dcardApi:\n",
    "    def __init__(self, base_url, popular, max_limit):\n",
    "        self.base_url = base_url\n",
    "        self.popular = popular\n",
    "        self.max_limit = max_limit\n",
    "\n",
    "    def get_df_from_api(self, url):\n",
    "        response = requests.get(url).text\n",
    "        data = json.loads(response)\n",
    "        df = pd.DataFrame(data)\n",
    "        return df\n",
    "\n",
    "    def get_Dcard_forums(self):\n",
    "        '''\n",
    "        看板資訊\n",
    "        '''\n",
    "        url = self.base_url + '/forums'\n",
    "        df = self.get_df_from_api(url)\n",
    "        return df\n",
    "\n",
    "    def get_Dcard_posts_all(self):\n",
    "        '''\n",
    "        全部文章\n",
    "        '''\n",
    "        url = self.base_url + '/posts'\n",
    "        df = self.get_df_from_api(url)\n",
    "        return df\n",
    "\n",
    "    def get_Dcard_posts(self, forums_name):\n",
    "        '''\n",
    "        看板文章列表\n",
    "        '''\n",
    "        url = self.base_url + '/forums/' + str(forums_name) + '/posts' + '?popular=' + self.popular + '&limit=' + str(self.max_limit)\n",
    "        df = self.get_df_from_api(url)\n",
    "        return df\n",
    "\n",
    "    def get_Dcard_posts_context(self, postid):\n",
    "        '''\n",
    "        文章內容\n",
    "        '''\n",
    "        url = self.base_url + '/posts/' + str(postid)\n",
    "        df = self.get_df_from_api(url)\n",
    "        return df\n",
    "    \n",
    "    def get_Dcard_posts_links(self, postid):\n",
    "        '''\n",
    "        文章內引用連結\n",
    "        '''\n",
    "        url = self.base_url + '/posts/' + str(postid) + '/links'\n",
    "        df = self.get_df_from_api(url)\n",
    "        return df\n",
    "\n",
    "    def get_Dcard_posts_comments(self, postid):\n",
    "        '''\n",
    "        文章留言\n",
    "        '''\n",
    "        url = self.base_url + '/posts/' + str(postid) + '/links'\n",
    "        df = self.get_df_from_api(url)\n",
    "        return df"
   ],
   "outputs": [],
   "metadata": {}
  },
  {
   "cell_type": "code",
   "execution_count": 5,
   "source": [
    "# database_username = 'jackyfu'\n",
    "# database_password = 'data8756'\n",
    "# database_ip       = 'sg2nlmysql29plsk.secureserver.net'\n",
    "# database_name     = 'Bigdata'\n",
    "# base_url = 'https://www.dcard.tw/service/api/v2'\n",
    "# popular = 'false'\n",
    "# max_limit = '100'\n",
    "# ##\n",
    "# MysqlDatabase = mysqlDatabase(database_username, database_password, database_ip, database_name)\n",
    "# DcardApi = dcardApi(base_url, popular, max_limit)\n",
    "# forums_name = 'boba'\n",
    "# DcardApi.get_Dcard_posts(forums_name)"
   ],
   "outputs": [],
   "metadata": {}
  }
 ],
 "metadata": {
  "orig_nbformat": 4,
  "language_info": {
   "name": "python",
   "version": "3.9.6",
   "mimetype": "text/x-python",
   "codemirror_mode": {
    "name": "ipython",
    "version": 3
   },
   "pygments_lexer": "ipython3",
   "nbconvert_exporter": "python",
   "file_extension": ".py"
  },
  "kernelspec": {
   "name": "python3",
   "display_name": "Python 3.9.6 64-bit ('base': conda)"
  },
  "interpreter": {
   "hash": "8babb7a12c6e42765f388889c0aa06c7d7375525eab3586cb053fcdf63518ad0"
  }
 },
 "nbformat": 4,
 "nbformat_minor": 2
}