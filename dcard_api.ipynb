{
    "cells": [
        {
            "cell_type": "code",
            "execution_count": 85,
            "source": [
                "import time\n",
                "import json\n",
                "import requests\n",
                "import cloudscraper\n",
                "import pymysql\n",
                "import pandas as pd\n",
                "import numpy as np\n",
                "import sqlalchemy\n",
                "from sqlalchemy import create_engine"
            ],
            "outputs": [],
            "metadata": {}
        },
        {
            "cell_type": "markdown",
            "source": [
                "## 上傳資料庫"
            ],
            "metadata": {}
        },
        {
            "cell_type": "code",
            "execution_count": 86,
            "source": [
                "def uploadDB(df, table_name):\n",
                "    database_username = 'jackyfu'\n",
                "    database_password = 'data8756'\n",
                "    database_ip       = 'sg2nlmysql29plsk.secureserver.net'\n",
                "    database_name     = 'Bigdata'\n",
                "    sql_engine = create_engine('mysql+mysqlconnector://{0}:{1}@{2}/{3}'.format(database_username, database_password, database_ip, database_name))\n",
                "    df.astype(str).to_sql(name=table_name, con=sql_engine, if_exists = 'append', index=False)\n",
                "    print('Successfully insert into Bigdata table: ' + table_name)"
            ],
            "outputs": [],
            "metadata": {}
        },
        {
            "cell_type": "markdown",
            "source": [
                "## 爬取DCARD版位資訊 API 網址：https://www.dcard.tw/service/api/v2\n",
                "\n",
                "### 全部文章\tGET\t/posts\n",
                "### 看板資訊\tGET\t/forums\n",
                "### 看板內文章列表\tGET\t/forums/{看板名稱}/posts\n",
                "### 文章內文\tGET\t/posts/{文章ID}\n",
                "### 文章內引用連結\tGET\t/posts/{文章ID}/links\n",
                "### 文章內留言\tGET\t/posts/{文章ID}/comments"
            ],
            "metadata": {}
        },
        {
            "cell_type": "code",
            "execution_count": 87,
            "source": [
                "def get_all_forums_and_upload():\n",
                "    url_path = 'https://www.dcard.tw/service/api/v2/forums'\n",
                "    df = get_df_from_dcard_api(url_path)\n",
                "    df = df[['id', 'alias', 'name', 'subscriptionCount', 'postCount', 'isSchool', 'createdAt']]\n",
                "    df.postCount = df.postCount.apply(lambda x : x['last30Days'])\n",
                "    df.createdAt = df.createdAt.apply(lambda x : x[:10])\n",
                "    # uploadDB(df, 'dcard_forums')\n",
                "    return df"
            ],
            "outputs": [],
            "metadata": {}
        },
        {
            "cell_type": "code",
            "execution_count": 88,
            "source": [
                "def get_df_from_dcard_api(url):\n",
                "    response = requests.get(url).text\n",
                "    # scraper = cloudscraper.create_scraper()\n",
                "    # response = scraper.get(url).text\n",
                "    ##\n",
                "    data = json.loads(response)\n",
                "    df = pd.DataFrame(data)\n",
                "    return df"
            ],
            "outputs": [],
            "metadata": {}
        },
        {
            "cell_type": "code",
            "execution_count": 89,
            "source": [
                "def get_latest_post_from_forums(forums_name, post_count, popular):\n",
                "    postid = ''\n",
                "    max_limit = 100 #一次拿100篇(上限)\n",
                "    iteration = int(post_count/max_limit)\n",
                "    df_post = pd.DataFrame()\n",
                "    for i in range(0,iteration):\n",
                "        post_url = 'https://www.dcard.tw/service/api/v2/forums/' + forums_name + '/posts?popular=' + popular + '&limit=' + str(max_limit)\n",
                "        suffix = '&before=' + str(postid)\n",
                "        if postid != '':   \n",
                "            post_url = post_url + suffix\n",
                "        df_post_batch = get_df_from_dcard_api(post_url)\n",
                "        df_post = df_post.append(df_post_batch)\n",
                "        postid = df_post_batch.tail(1).id.tolist()[0]\n",
                "        # time.sleep(3)\n",
                "    return df_post"
            ],
            "outputs": [],
            "metadata": {}
        },
        {
            "cell_type": "code",
            "execution_count": 90,
            "source": [
                "# 建立版位資訊表\n",
                "df_forums = get_all_forums_and_upload()"
            ],
            "outputs": [],
            "metadata": {}
        },
        {
            "cell_type": "code",
            "execution_count": 91,
            "source": [
                "df_forums = df_forums[(df_forums.isSchool == False) & (df_forums.postCount >= 1000)]\n",
                "df_forums = df_forums.sort_values(by = 'postCount', ascending=False)\n",
                "df_forums.head()"
            ],
            "outputs": [
                {
                    "output_type": "execute_result",
                    "data": {
                        "text/plain": [
                            "                                       id         alias name  \\\n",
                            "370  e33fd5d2-025f-46e4-8b81-3f6fecdd25e1  whysoserious   廢文   \n",
                            "228  42851318-b9e2-4a75-8a05-9fe180becefe  relationship   感情   \n",
                            "229  75a726e6-d4e3-4902-a410-2430a39fffcb          mood   心情   \n",
                            "230  255fd275-fec2-49d2-8e46-2e1557ffaeb0          talk   閒聊   \n",
                            "373  1ce3ebca-8701-42d5-b14c-076fc629bc8e           sex   西斯   \n",
                            "\n",
                            "     subscriptionCount  postCount  isSchool   createdAt  \n",
                            "370              35462      40310     False  2020-02-04  \n",
                            "228             573020      10671     False  2020-02-04  \n",
                            "229             275878       8708     False  2020-02-04  \n",
                            "230             357703       6228     False  2020-02-04  \n",
                            "373             629537       5372     False  2020-02-04  "
                        ],
                        "text/html": [
                            "<div>\n",
                            "<style scoped>\n",
                            "    .dataframe tbody tr th:only-of-type {\n",
                            "        vertical-align: middle;\n",
                            "    }\n",
                            "\n",
                            "    .dataframe tbody tr th {\n",
                            "        vertical-align: top;\n",
                            "    }\n",
                            "\n",
                            "    .dataframe thead th {\n",
                            "        text-align: right;\n",
                            "    }\n",
                            "</style>\n",
                            "<table border=\"1\" class=\"dataframe\">\n",
                            "  <thead>\n",
                            "    <tr style=\"text-align: right;\">\n",
                            "      <th></th>\n",
                            "      <th>id</th>\n",
                            "      <th>alias</th>\n",
                            "      <th>name</th>\n",
                            "      <th>subscriptionCount</th>\n",
                            "      <th>postCount</th>\n",
                            "      <th>isSchool</th>\n",
                            "      <th>createdAt</th>\n",
                            "    </tr>\n",
                            "  </thead>\n",
                            "  <tbody>\n",
                            "    <tr>\n",
                            "      <th>370</th>\n",
                            "      <td>e33fd5d2-025f-46e4-8b81-3f6fecdd25e1</td>\n",
                            "      <td>whysoserious</td>\n",
                            "      <td>廢文</td>\n",
                            "      <td>35462</td>\n",
                            "      <td>40310</td>\n",
                            "      <td>False</td>\n",
                            "      <td>2020-02-04</td>\n",
                            "    </tr>\n",
                            "    <tr>\n",
                            "      <th>228</th>\n",
                            "      <td>42851318-b9e2-4a75-8a05-9fe180becefe</td>\n",
                            "      <td>relationship</td>\n",
                            "      <td>感情</td>\n",
                            "      <td>573020</td>\n",
                            "      <td>10671</td>\n",
                            "      <td>False</td>\n",
                            "      <td>2020-02-04</td>\n",
                            "    </tr>\n",
                            "    <tr>\n",
                            "      <th>229</th>\n",
                            "      <td>75a726e6-d4e3-4902-a410-2430a39fffcb</td>\n",
                            "      <td>mood</td>\n",
                            "      <td>心情</td>\n",
                            "      <td>275878</td>\n",
                            "      <td>8708</td>\n",
                            "      <td>False</td>\n",
                            "      <td>2020-02-04</td>\n",
                            "    </tr>\n",
                            "    <tr>\n",
                            "      <th>230</th>\n",
                            "      <td>255fd275-fec2-49d2-8e46-2e1557ffaeb0</td>\n",
                            "      <td>talk</td>\n",
                            "      <td>閒聊</td>\n",
                            "      <td>357703</td>\n",
                            "      <td>6228</td>\n",
                            "      <td>False</td>\n",
                            "      <td>2020-02-04</td>\n",
                            "    </tr>\n",
                            "    <tr>\n",
                            "      <th>373</th>\n",
                            "      <td>1ce3ebca-8701-42d5-b14c-076fc629bc8e</td>\n",
                            "      <td>sex</td>\n",
                            "      <td>西斯</td>\n",
                            "      <td>629537</td>\n",
                            "      <td>5372</td>\n",
                            "      <td>False</td>\n",
                            "      <td>2020-02-04</td>\n",
                            "    </tr>\n",
                            "  </tbody>\n",
                            "</table>\n",
                            "</div>"
                        ]
                    },
                    "metadata": {},
                    "execution_count": 91
                }
            ],
            "metadata": {}
        },
        {
            "cell_type": "code",
            "execution_count": 92,
            "source": [
                "forums_list = df_forums.alias.tolist()\n",
                "print(forums_list)"
            ],
            "outputs": [
                {
                    "output_type": "stream",
                    "name": "stdout",
                    "text": [
                        "['whysoserious', 'relationship', 'mood', 'talk', 'sex', 'job', 'makeup', 'freshman', 'trending', 'sportsevents', 'exam', 'girl', 'aov', 'animal_crossing', 'rainbow', 'meme', 'horoscopes', 'food', '3c', '2019_ncov', 'dressup', 'pet', 'buyonline', 'vehicle', 'illustration', 'savemoney', 'funny', 'apple', 'entertainer', 'stock', 'acg', 'game']\n"
                    ]
                }
            ],
            "metadata": {}
        },
        {
            "cell_type": "code",
            "execution_count": 103,
            "source": [
                "# 頻繁的呼叫API會被擋\n",
                "# 擷取最熱門版位，最近100篇發文資訊，並上傳\n",
                "# forums_list = ['game']\n",
                "for forums_name in forums_list:\n",
                "    print(forums_name)\n",
                "    df_post = get_latest_post_from_forums(forums_name = forums_name, post_count = 100, popular = 'true')\n",
                "    df_post = df_post[['id', 'title', 'excerpt', 'forumId', 'commentCount', 'likeCount', 'topics', 'school', 'gender', 'createdAt']]\n",
                "    df_post.columns = ['postid', 'title', 'excerpt', 'forumId', 'commentCount', 'likeCount', 'topics', 'author', 'gender', 'createdAt']\n",
                "    uploadDB(df_post, 'dcard_posts')\n",
                "    time.sleep(3)"
            ],
            "outputs": [
                {
                    "output_type": "stream",
                    "name": "stdout",
                    "text": [
                        "game\n",
                        "Successfully insert into Bigdata table: dcard_posts\n"
                    ]
                }
            ],
            "metadata": {}
        },
        {
            "cell_type": "code",
            "execution_count": null,
            "source": [],
            "outputs": [],
            "metadata": {}
        }
    ],
    "metadata": {
        "orig_nbformat": 4,
        "language_info": {
            "name": "python",
            "version": "3.9.6",
            "mimetype": "text/x-python",
            "codemirror_mode": {
                "name": "ipython",
                "version": 3
            },
            "pygments_lexer": "ipython3",
            "nbconvert_exporter": "python",
            "file_extension": ".py"
        },
        "kernelspec": {
            "name": "python3",
            "display_name": "Python 3.9.6 64-bit ('base': conda)"
        },
        "interpreter": {
            "hash": "8babb7a12c6e42765f388889c0aa06c7d7375525eab3586cb053fcdf63518ad0"
        }
    },
    "nbformat": 4,
    "nbformat_minor": 2
}