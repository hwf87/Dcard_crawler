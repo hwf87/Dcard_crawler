{
    "cells": [
        {
            "cell_type": "code",
            "execution_count": 1,
            "source": [
                "import time\n",
                "import json\n",
                "import requests\n",
                "import cloudscraper\n",
                "import pymysql\n",
                "import pandas as pd\n",
                "import numpy as np\n",
                "import sqlalchemy\n",
                "from sqlalchemy import create_engine"
            ],
            "outputs": [],
            "metadata": {}
        },
        {
            "cell_type": "markdown",
            "source": [
                "## 上傳資料庫"
            ],
            "metadata": {}
        },
        {
            "cell_type": "code",
            "execution_count": 2,
            "source": [
                "def uploadDB(df, table_name):\n",
                "    database_username = 'jackyfu'\n",
                "    database_password = 'data8756'\n",
                "    database_ip       = 'sg2nlmysql29plsk.secureserver.net'\n",
                "    database_name     = 'Bigdata'\n",
                "    sql_engine = create_engine('mysql+mysqlconnector://{0}:{1}@{2}/{3}'.format(database_username, database_password, database_ip, database_name))\n",
                "    df.astype(str).to_sql(name=table_name, con=sql_engine, if_exists = 'append', index=False)\n",
                "    print('Successfully insert into Bigdata table: ' + table_name)"
            ],
            "outputs": [],
            "metadata": {}
        },
        {
            "cell_type": "markdown",
            "source": [
                "## 爬取DCARD版位資訊 API 網址：https://www.dcard.tw/service/api/v2\n",
                "\n",
                "### 全部文章\tGET\t/posts\n",
                "### 看板資訊\tGET\t/forums\n",
                "### 看板內文章列表\tGET\t/forums/{看板名稱}/posts\n",
                "### 文章內文\tGET\t/posts/{文章ID}\n",
                "### 文章內引用連結\tGET\t/posts/{文章ID}/links\n",
                "### 文章內留言\tGET\t/posts/{文章ID}/comments"
            ],
            "metadata": {}
        },
        {
            "cell_type": "code",
            "execution_count": 3,
            "source": [
                "def get_all_forums_and_upload():\n",
                "    url_path = 'https://www.dcard.tw/service/api/v2/forums'\n",
                "    df = get_df_from_dcard_api(url_path)\n",
                "    df = df[['id', 'alias', 'name', 'subscriptionCount', 'postCount', 'isSchool', 'createdAt']]\n",
                "    df.postCount = df.postCount.apply(lambda x : x['last30Days'])\n",
                "    df.createdAt = df.createdAt.apply(lambda x : x[:10])\n",
                "    # uploadDB(df, 'dcard_forums')\n",
                "    return df"
            ],
            "outputs": [],
            "metadata": {}
        },
        {
            "cell_type": "code",
            "execution_count": 4,
            "source": [
                "def get_df_from_dcard_api(url):\n",
                "    response = requests.get(url).text\n",
                "    # scraper = cloudscraper.create_scraper()\n",
                "    # response = scraper.get(url).text\n",
                "    ##\n",
                "    data = json.loads(response)\n",
                "    df = pd.DataFrame(data)\n",
                "    return df"
            ],
            "outputs": [],
            "metadata": {}
        },
        {
            "cell_type": "code",
            "execution_count": 5,
            "source": [
                "def get_latest_post_from_forums(forums_name, post_count, popular):\n",
                "    postid = ''\n",
                "    max_limit = 100 #一次拿100篇(上限)\n",
                "    iteration = int(post_count/max_limit)\n",
                "    df_post = pd.DataFrame()\n",
                "    for i in range(0,iteration):\n",
                "        post_url = 'https://www.dcard.tw/service/api/v2/forums/' + forums_name + '/posts?popular=' + popular + '&limit=' + str(max_limit)\n",
                "        suffix = '&before=' + str(postid)\n",
                "        if postid != '':\n",
                "            post_url = post_url + suffix\n",
                "        df_post_batch = get_df_from_dcard_api(post_url)\n",
                "        df_post = df_post.append(df_post_batch)\n",
                "        postid = df_post_batch.tail(1).id.tolist()[0]\n",
                "        # time.sleep(3)\n",
                "    return df_post"
            ],
            "outputs": [],
            "metadata": {}
        },
        {
            "cell_type": "code",
            "execution_count": 6,
            "source": [
                "# 建立版位資訊表\n",
                "df_forums = get_all_forums_and_upload()"
            ],
            "outputs": [],
            "metadata": {}
        },
        {
            "cell_type": "code",
            "execution_count": 7,
            "source": [
                "df_forums = df_forums[(df_forums.isSchool == False) & (df_forums.postCount >= 1000)]\n",
                "df_forums = df_forums.sort_values(by = 'postCount', ascending=False)\n",
                "df_forums.head()"
            ],
            "outputs": [
                {
                    "output_type": "execute_result",
                    "data": {
                        "text/plain": [
                            "                                       id         alias name  \\\n",
                            "370  e33fd5d2-025f-46e4-8b81-3f6fecdd25e1  whysoserious   廢文   \n",
                            "228  42851318-b9e2-4a75-8a05-9fe180becefe  relationship   感情   \n",
                            "229  75a726e6-d4e3-4902-a410-2430a39fffcb          mood   心情   \n",
                            "230  255fd275-fec2-49d2-8e46-2e1557ffaeb0          talk   閒聊   \n",
                            "373  1ce3ebca-8701-42d5-b14c-076fc629bc8e           sex   西斯   \n",
                            "\n",
                            "     subscriptionCount  postCount  isSchool   createdAt  \n",
                            "370              35741      41381     False  2020-02-04  \n",
                            "228             576409      10532     False  2020-02-04  \n",
                            "229             277869       8909     False  2020-02-04  \n",
                            "230             362319       6078     False  2020-02-04  \n",
                            "373             633070       5289     False  2020-02-04  "
                        ],
                        "text/html": [
                            "<div>\n",
                            "<style scoped>\n",
                            "    .dataframe tbody tr th:only-of-type {\n",
                            "        vertical-align: middle;\n",
                            "    }\n",
                            "\n",
                            "    .dataframe tbody tr th {\n",
                            "        vertical-align: top;\n",
                            "    }\n",
                            "\n",
                            "    .dataframe thead th {\n",
                            "        text-align: right;\n",
                            "    }\n",
                            "</style>\n",
                            "<table border=\"1\" class=\"dataframe\">\n",
                            "  <thead>\n",
                            "    <tr style=\"text-align: right;\">\n",
                            "      <th></th>\n",
                            "      <th>id</th>\n",
                            "      <th>alias</th>\n",
                            "      <th>name</th>\n",
                            "      <th>subscriptionCount</th>\n",
                            "      <th>postCount</th>\n",
                            "      <th>isSchool</th>\n",
                            "      <th>createdAt</th>\n",
                            "    </tr>\n",
                            "  </thead>\n",
                            "  <tbody>\n",
                            "    <tr>\n",
                            "      <th>370</th>\n",
                            "      <td>e33fd5d2-025f-46e4-8b81-3f6fecdd25e1</td>\n",
                            "      <td>whysoserious</td>\n",
                            "      <td>廢文</td>\n",
                            "      <td>35741</td>\n",
                            "      <td>41381</td>\n",
                            "      <td>False</td>\n",
                            "      <td>2020-02-04</td>\n",
                            "    </tr>\n",
                            "    <tr>\n",
                            "      <th>228</th>\n",
                            "      <td>42851318-b9e2-4a75-8a05-9fe180becefe</td>\n",
                            "      <td>relationship</td>\n",
                            "      <td>感情</td>\n",
                            "      <td>576409</td>\n",
                            "      <td>10532</td>\n",
                            "      <td>False</td>\n",
                            "      <td>2020-02-04</td>\n",
                            "    </tr>\n",
                            "    <tr>\n",
                            "      <th>229</th>\n",
                            "      <td>75a726e6-d4e3-4902-a410-2430a39fffcb</td>\n",
                            "      <td>mood</td>\n",
                            "      <td>心情</td>\n",
                            "      <td>277869</td>\n",
                            "      <td>8909</td>\n",
                            "      <td>False</td>\n",
                            "      <td>2020-02-04</td>\n",
                            "    </tr>\n",
                            "    <tr>\n",
                            "      <th>230</th>\n",
                            "      <td>255fd275-fec2-49d2-8e46-2e1557ffaeb0</td>\n",
                            "      <td>talk</td>\n",
                            "      <td>閒聊</td>\n",
                            "      <td>362319</td>\n",
                            "      <td>6078</td>\n",
                            "      <td>False</td>\n",
                            "      <td>2020-02-04</td>\n",
                            "    </tr>\n",
                            "    <tr>\n",
                            "      <th>373</th>\n",
                            "      <td>1ce3ebca-8701-42d5-b14c-076fc629bc8e</td>\n",
                            "      <td>sex</td>\n",
                            "      <td>西斯</td>\n",
                            "      <td>633070</td>\n",
                            "      <td>5289</td>\n",
                            "      <td>False</td>\n",
                            "      <td>2020-02-04</td>\n",
                            "    </tr>\n",
                            "  </tbody>\n",
                            "</table>\n",
                            "</div>"
                        ]
                    },
                    "metadata": {},
                    "execution_count": 7
                }
            ],
            "metadata": {}
        },
        {
            "cell_type": "code",
            "execution_count": 92,
            "source": [
                "forums_list = df_forums.alias.tolist()\n",
                "print(forums_list)"
            ],
            "outputs": [
                {
                    "output_type": "stream",
                    "name": "stdout",
                    "text": [
                        "['whysoserious', 'relationship', 'mood', 'talk', 'sex', 'job', 'makeup', 'freshman', 'trending', 'sportsevents', 'exam', 'girl', 'aov', 'animal_crossing', 'rainbow', 'meme', 'horoscopes', 'food', '3c', '2019_ncov', 'dressup', 'pet', 'buyonline', 'vehicle', 'illustration', 'savemoney', 'funny', 'apple', 'entertainer', 'stock', 'acg', 'game']\n"
                    ]
                }
            ],
            "metadata": {}
        },
        {
            "cell_type": "code",
            "execution_count": 103,
            "source": [
                "# 頻繁的呼叫API會被擋\n",
                "# 擷取最熱門版位，最近100篇發文資訊，並上傳\n",
                "# forums_list = ['game']\n",
                "for forums_name in forums_list:\n",
                "    print(forums_name)\n",
                "    df_post = get_latest_post_from_forums(forums_name = forums_name, post_count = 100, popular = 'true')\n",
                "    df_post = df_post[['id', 'title', 'excerpt', 'forumId', 'commentCount', 'likeCount', 'topics', 'school', 'gender', 'createdAt']]\n",
                "    df_post.columns = ['postid', 'title', 'excerpt', 'forumId', 'commentCount', 'likeCount', 'topics', 'author', 'gender', 'createdAt']\n",
                "    uploadDB(df_post, 'dcard_posts')\n",
                "    time.sleep(3)"
            ],
            "outputs": [
                {
                    "output_type": "stream",
                    "name": "stdout",
                    "text": [
                        "game\n",
                        "Successfully insert into Bigdata table: dcard_posts\n"
                    ]
                }
            ],
            "metadata": {}
        },
        {
            "cell_type": "markdown",
            "source": [
                "### 爬留言"
            ],
            "metadata": {}
        },
        {
            "cell_type": "code",
            "execution_count": 12,
            "source": [
                "pd.set_option(\"display.max_columns\", None)"
            ],
            "outputs": [],
            "metadata": {}
        },
        {
            "cell_type": "code",
            "execution_count": 20,
            "source": [
                "postid = 236804037\n",
                "url = 'https://www.dcard.tw/service/api/v2/posts/' + str(postid) + '/comments'"
            ],
            "outputs": [],
            "metadata": {}
        },
        {
            "cell_type": "code",
            "execution_count": 28,
            "source": [
                "df_comments = get_df_from_dcard_api(url)\n",
                "df_comments_tmp = df_comments[['id', 'anonymous', 'postId', 'createdAt', 'floor', 'content', 'likeCount', 'withNickname', 'gender', 'school', 'department']]"
            ],
            "outputs": [],
            "metadata": {}
        },
        {
            "cell_type": "code",
            "execution_count": 29,
            "source": [
                "df_comments_tmp"
            ],
            "outputs": [
                {
                    "output_type": "execute_result",
                    "data": {
                        "text/plain": [
                            "                                     id  anonymous     postId  \\\n",
                            "0  ce81ebdd-80d2-4948-b79d-88f211fe5d88      False  236804037   \n",
                            "1  c7ca0454-9960-4e6e-920f-1366030ac819       True  236804037   \n",
                            "2  d0a7dc32-238a-402d-8d1c-a61ff68ef06a      False  236804037   \n",
                            "3  b3cf3ae1-b07e-4a0b-bc75-0a9b167f49fc      False  236804037   \n",
                            "4  26a8e59f-25f2-496f-b01a-1a94f725fdcd       True  236804037   \n",
                            "5  41ddf582-1c63-4815-8f45-04c55b9b31a8      False  236804037   \n",
                            "\n",
                            "                  createdAt  floor                         content  likeCount  \\\n",
                            "0  2021-08-25T06:06:50.402Z      1  (((o(*ﾟ▽ﾟ*)o))) 我是不是該去跟笨蛋們收帳呢？          2   \n",
                            "1  2021-08-25T06:07:45.033Z      2                     不知道為什麼有點想哭🥲          2   \n",
                            "2  2021-08-25T06:13:44.743Z      3                              :0          1   \n",
                            "3  2021-08-25T06:14:01.572Z      4                      9/6有可能降1級嗎          0   \n",
                            "4  2021-08-25T06:15:03.639Z      5                         終於欸 666          1   \n",
                            "5  2021-08-26T05:10:12.799Z      6               大家都好棒(๑و•̀ㅂ•́๑)و✧          0   \n",
                            "\n",
                            "   withNickname gender       school       department  \n",
                            "0          True      M        善良仔米蟲         dionysos  \n",
                            "1         False      F         淡江大學              NaN  \n",
                            "2          True      M  柴奴寶ˁ ˙꒳​˙‎ˀ  little_shiba_nu  \n",
                            "3          True      M  柴奴寶ˁ ˙꒳​˙‎ˀ  little_shiba_nu  \n",
                            "4         False      M         長榮大學              NaN  \n",
                            "5         False      M     國立彰化師範大學             物理學系  "
                        ],
                        "text/html": [
                            "<div>\n",
                            "<style scoped>\n",
                            "    .dataframe tbody tr th:only-of-type {\n",
                            "        vertical-align: middle;\n",
                            "    }\n",
                            "\n",
                            "    .dataframe tbody tr th {\n",
                            "        vertical-align: top;\n",
                            "    }\n",
                            "\n",
                            "    .dataframe thead th {\n",
                            "        text-align: right;\n",
                            "    }\n",
                            "</style>\n",
                            "<table border=\"1\" class=\"dataframe\">\n",
                            "  <thead>\n",
                            "    <tr style=\"text-align: right;\">\n",
                            "      <th></th>\n",
                            "      <th>id</th>\n",
                            "      <th>anonymous</th>\n",
                            "      <th>postId</th>\n",
                            "      <th>createdAt</th>\n",
                            "      <th>floor</th>\n",
                            "      <th>content</th>\n",
                            "      <th>likeCount</th>\n",
                            "      <th>withNickname</th>\n",
                            "      <th>gender</th>\n",
                            "      <th>school</th>\n",
                            "      <th>department</th>\n",
                            "    </tr>\n",
                            "  </thead>\n",
                            "  <tbody>\n",
                            "    <tr>\n",
                            "      <th>0</th>\n",
                            "      <td>ce81ebdd-80d2-4948-b79d-88f211fe5d88</td>\n",
                            "      <td>False</td>\n",
                            "      <td>236804037</td>\n",
                            "      <td>2021-08-25T06:06:50.402Z</td>\n",
                            "      <td>1</td>\n",
                            "      <td>(((o(*ﾟ▽ﾟ*)o))) 我是不是該去跟笨蛋們收帳呢？</td>\n",
                            "      <td>2</td>\n",
                            "      <td>True</td>\n",
                            "      <td>M</td>\n",
                            "      <td>善良仔米蟲</td>\n",
                            "      <td>dionysos</td>\n",
                            "    </tr>\n",
                            "    <tr>\n",
                            "      <th>1</th>\n",
                            "      <td>c7ca0454-9960-4e6e-920f-1366030ac819</td>\n",
                            "      <td>True</td>\n",
                            "      <td>236804037</td>\n",
                            "      <td>2021-08-25T06:07:45.033Z</td>\n",
                            "      <td>2</td>\n",
                            "      <td>不知道為什麼有點想哭🥲</td>\n",
                            "      <td>2</td>\n",
                            "      <td>False</td>\n",
                            "      <td>F</td>\n",
                            "      <td>淡江大學</td>\n",
                            "      <td>NaN</td>\n",
                            "    </tr>\n",
                            "    <tr>\n",
                            "      <th>2</th>\n",
                            "      <td>d0a7dc32-238a-402d-8d1c-a61ff68ef06a</td>\n",
                            "      <td>False</td>\n",
                            "      <td>236804037</td>\n",
                            "      <td>2021-08-25T06:13:44.743Z</td>\n",
                            "      <td>3</td>\n",
                            "      <td>:0</td>\n",
                            "      <td>1</td>\n",
                            "      <td>True</td>\n",
                            "      <td>M</td>\n",
                            "      <td>柴奴寶ˁ ˙꒳​˙‎ˀ</td>\n",
                            "      <td>little_shiba_nu</td>\n",
                            "    </tr>\n",
                            "    <tr>\n",
                            "      <th>3</th>\n",
                            "      <td>b3cf3ae1-b07e-4a0b-bc75-0a9b167f49fc</td>\n",
                            "      <td>False</td>\n",
                            "      <td>236804037</td>\n",
                            "      <td>2021-08-25T06:14:01.572Z</td>\n",
                            "      <td>4</td>\n",
                            "      <td>9/6有可能降1級嗎</td>\n",
                            "      <td>0</td>\n",
                            "      <td>True</td>\n",
                            "      <td>M</td>\n",
                            "      <td>柴奴寶ˁ ˙꒳​˙‎ˀ</td>\n",
                            "      <td>little_shiba_nu</td>\n",
                            "    </tr>\n",
                            "    <tr>\n",
                            "      <th>4</th>\n",
                            "      <td>26a8e59f-25f2-496f-b01a-1a94f725fdcd</td>\n",
                            "      <td>True</td>\n",
                            "      <td>236804037</td>\n",
                            "      <td>2021-08-25T06:15:03.639Z</td>\n",
                            "      <td>5</td>\n",
                            "      <td>終於欸 666</td>\n",
                            "      <td>1</td>\n",
                            "      <td>False</td>\n",
                            "      <td>M</td>\n",
                            "      <td>長榮大學</td>\n",
                            "      <td>NaN</td>\n",
                            "    </tr>\n",
                            "    <tr>\n",
                            "      <th>5</th>\n",
                            "      <td>41ddf582-1c63-4815-8f45-04c55b9b31a8</td>\n",
                            "      <td>False</td>\n",
                            "      <td>236804037</td>\n",
                            "      <td>2021-08-26T05:10:12.799Z</td>\n",
                            "      <td>6</td>\n",
                            "      <td>大家都好棒(๑و•̀ㅂ•́๑)و✧</td>\n",
                            "      <td>0</td>\n",
                            "      <td>False</td>\n",
                            "      <td>M</td>\n",
                            "      <td>國立彰化師範大學</td>\n",
                            "      <td>物理學系</td>\n",
                            "    </tr>\n",
                            "  </tbody>\n",
                            "</table>\n",
                            "</div>"
                        ]
                    },
                    "metadata": {},
                    "execution_count": 29
                }
            ],
            "metadata": {}
        },
        {
            "cell_type": "code",
            "execution_count": null,
            "source": [],
            "outputs": [],
            "metadata": {}
        }
    ],
    "metadata": {
        "orig_nbformat": 4,
        "language_info": {
            "name": "python",
            "version": "3.9.6",
            "mimetype": "text/x-python",
            "codemirror_mode": {
                "name": "ipython",
                "version": 3
            },
            "pygments_lexer": "ipython3",
            "nbconvert_exporter": "python",
            "file_extension": ".py"
        },
        "kernelspec": {
            "name": "python3",
            "display_name": "Python 3.9.6 64-bit ('base': conda)"
        },
        "interpreter": {
            "hash": "8babb7a12c6e42765f388889c0aa06c7d7375525eab3586cb053fcdf63518ad0"
        }
    },
    "nbformat": 4,
    "nbformat_minor": 2
}